{
  "nbformat": 4,
  "nbformat_minor": 0,
  "metadata": {
    "colab": {
      "provenance": [],
      "authorship_tag": "ABX9TyOZCXwYKeEkJQppKD+YT0RE",
      "include_colab_link": true
    },
    "kernelspec": {
      "name": "python3",
      "display_name": "Python 3"
    },
    "language_info": {
      "name": "python"
    }
  },
  "cells": [
    {
      "cell_type": "markdown",
      "metadata": {
        "id": "view-in-github",
        "colab_type": "text"
      },
      "source": [
        "<a href=\"https://colab.research.google.com/github/priii-25/Curvetopia_Project/blob/main/occlusion.ipynb\" target=\"_parent\"><img src=\"https://colab.research.google.com/assets/colab-badge.svg\" alt=\"Open In Colab\"/></a>"
      ]
    },
    {
      "cell_type": "code",
      "source": [
        "!pip install svgwrite"
      ],
      "metadata": {
        "id": "InHaXveYsrQL",
        "outputId": "41f6d35c-c1b0-4462-8fbb-a485e4fa404c",
        "colab": {
          "base_uri": "https://localhost:8080/"
        }
      },
      "execution_count": 2,
      "outputs": [
        {
          "output_type": "stream",
          "name": "stdout",
          "text": [
            "Collecting svgwrite\n",
            "  Downloading svgwrite-1.4.3-py3-none-any.whl.metadata (8.8 kB)\n",
            "Downloading svgwrite-1.4.3-py3-none-any.whl (67 kB)\n",
            "\u001b[?25l   \u001b[90m━━━━━━━━━━━━━━━━━━━━━━━━━━━━━━━━━━━━━━━━\u001b[0m \u001b[32m0.0/67.1 kB\u001b[0m \u001b[31m?\u001b[0m eta \u001b[36m-:--:--\u001b[0m\r\u001b[2K   \u001b[90m━━━━━━━━━━━━━━━━━━━━━━━━━━━━━━━━━━━━━━━━\u001b[0m \u001b[32m67.1/67.1 kB\u001b[0m \u001b[31m1.8 MB/s\u001b[0m eta \u001b[36m0:00:00\u001b[0m\n",
            "\u001b[?25hInstalling collected packages: svgwrite\n",
            "Successfully installed svgwrite-1.4.3\n"
          ]
        }
      ]
    },
    {
      "cell_type": "code",
      "execution_count": 3,
      "metadata": {
        "id": "r_93R7tarvfT"
      },
      "outputs": [],
      "source": [
        "import numpy as np\n",
        "import matplotlib.pyplot as plt\n",
        "from shapely.geometry import LineString, Point\n",
        "import cv2\n",
        "import csv\n",
        "from svgwrite import Drawing"
      ]
    },
    {
      "cell_type": "code",
      "source": [
        "def load_data(csv_path):\n",
        "    \"\"\"\n",
        "    Load XY curve data from a CSV file.\n",
        "\n",
        "    Parameters:\n",
        "    csv_path (str): The path to the CSV file containing the curve data.\n",
        "\n",
        "    Returns:\n",
        "    np.ndarray: A numpy array containing the XY coordinates of the curve.\n",
        "    \"\"\"\n",
        "    with open(csv_path, 'r') as f:\n",
        "        reader = csv.reader(f)\n",
        "        data = list(reader)\n",
        "\n",
        "    path_XYs = []\n",
        "    current_segment = []\n",
        "\n",
        "    for row in data:\n",
        "        if len(row) >= 2:\n",
        "            current_segment.append([float(row[-2]), float(row[-1])])\n",
        "\n",
        "    path_XYs = np.array(current_segment)\n",
        "    return path_XYs"
      ],
      "metadata": {
        "id": "zS482ThDryIj"
      },
      "execution_count": 4,
      "outputs": []
    },
    {
      "cell_type": "code",
      "source": [
        "def detect_intersections(curve):\n",
        "    \"\"\"\n",
        "    Detect intersections or occlusions in the curve by checking for overlapping line segments.\n",
        "\n",
        "    Parameters:\n",
        "    curve (np.ndarray): A numpy array of XY coordinates representing the curve.\n",
        "\n",
        "    Returns:\n",
        "    list: A list of intersection points.\n",
        "    list: A list of tuples representing the indices of the interrupted segments.\n",
        "    \"\"\"\n",
        "    curve_line = LineString(curve)\n",
        "    intersections = []\n",
        "    interrupted_segments = []\n",
        "\n",
        "    for i in range(len(curve) - 2):\n",
        "        segment_1 = LineString(curve[i:i+2])\n",
        "        for j in range(i + 2, len(curve) - 1):\n",
        "            segment_2 = LineString(curve[j:j+2])\n",
        "            if segment_1.intersects(segment_2):\n",
        "                intersection_point = segment_1.intersection(segment_2)\n",
        "                if isinstance(intersection_point, Point):\n",
        "                    intersections.append(intersection_point)\n",
        "                    interrupted_segments.append((i, j))\n",
        "\n",
        "    return intersections, interrupted_segments"
      ],
      "metadata": {
        "id": "pETetBhvr0cl"
      },
      "execution_count": 5,
      "outputs": []
    },
    {
      "cell_type": "code",
      "source": [
        "def complete_interrupted_curve(curve, interrupted_segment):\n",
        "    \"\"\"\n",
        "    Complete an interrupted segment of the curve by extending it.\n",
        "\n",
        "    Parameters:\n",
        "    curve (np.ndarray): The original curve as an array of XY points.\n",
        "    interrupted_segment (tuple): The start and end indices of the interrupted segment.\n",
        "\n",
        "    Returns:\n",
        "    np.ndarray: The extended curve with the interrupted segment completed.\n",
        "    \"\"\"\n",
        "    start_idx, end_idx = interrupted_segment\n",
        "\n",
        "    if start_idx >= len(curve) or end_idx >= len(curve) or start_idx < 0 or end_idx < 0:\n",
        "        return curve\n",
        "\n",
        "    segment = curve[start_idx:end_idx+1]\n",
        "\n",
        "    if len(segment) < 2:\n",
        "        print(f\"Segment is too short or empty: start_idx={start_idx}, end_idx={end_idx}\")\n",
        "        return curve\n",
        "\n",
        "    direction_vector = segment[-1] - segment[-2]\n",
        "\n",
        "    extended_curve = [segment[-1]]\n",
        "    for _ in range(10):\n",
        "        new_point = extended_curve[-1] + direction_vector * 0.1\n",
        "        extended_curve.append(new_point)\n",
        "\n",
        "    extended_curve = np.vstack(extended_curve)\n",
        "    return np.vstack((curve[:end_idx+1], extended_curve))\n"
      ],
      "metadata": {
        "id": "TquTpADIr2bO"
      },
      "execution_count": 6,
      "outputs": []
    },
    {
      "cell_type": "code",
      "source": [
        "def detect_shape_type(curve_points):\n",
        "    \"\"\"\n",
        "    Determine the type of shape the curve points resemble (ellipse, circle, or line).\n",
        "\n",
        "    Parameters:\n",
        "    curve_points (np.ndarray): The array of points representing the curve.\n",
        "\n",
        "    Returns:\n",
        "    str: The detected shape type ('ellipse', 'circle', 'line', or None).\n",
        "    \"\"\"\n",
        "    curve_points = curve_points.astype(np.float32)\n",
        "\n",
        "    if len(curve_points) >= 5:\n",
        "        ellipse = cv2.fitEllipse(curve_points)\n",
        "        aspect_ratio = min(ellipse[1]) / max(ellipse[1])\n",
        "\n",
        "        if aspect_ratio < 0.9:\n",
        "            return 'ellipse'\n",
        "        else:\n",
        "            return 'circle'\n",
        "\n",
        "    elif len(curve_points) >= 2:\n",
        "        return 'line'\n",
        "\n",
        "    return None"
      ],
      "metadata": {
        "id": "gszOEc1wr4JS"
      },
      "execution_count": 7,
      "outputs": []
    },
    {
      "cell_type": "code",
      "source": [
        "def fit_shape(curve_points, shape_type):\n",
        "    \"\"\"\n",
        "    Fit a geometric shape (ellipse, circle, or line) to the curve points.\n",
        "\n",
        "    Parameters:\n",
        "    curve_points (np.ndarray): The array of points representing the curve.\n",
        "    shape_type (str): The type of shape to fit ('ellipse', 'circle', or 'line').\n",
        "\n",
        "    Returns:\n",
        "    np.ndarray: The points of the fitted shape.\n",
        "    str: The type of shape fitted.\n",
        "    \"\"\"\n",
        "    curve_points = curve_points.astype(np.float32)\n",
        "\n",
        "    if shape_type == 'ellipse' and len(curve_points) >= 5:\n",
        "        ellipse = cv2.fitEllipse(curve_points)\n",
        "        ellipse_points = ellipse_to_points(ellipse)\n",
        "        return ellipse_points, 'ellipse'\n",
        "\n",
        "    elif shape_type == 'circle' and len(curve_points) >= 3:\n",
        "        (x, y), radius = cv2.minEnclosingCircle(curve_points)\n",
        "        circle_points = circle_to_points((x, y), radius)\n",
        "        return circle_points, 'circle'\n",
        "\n",
        "    elif shape_type == 'line' and len(curve_points) >= 2:\n",
        "        [vx, vy, x, y] = cv2.fitLine(curve_points, cv2.DIST_L2, 0, 0.01, 0.01)\n",
        "        line_points = line_to_points((x, y), (vx, vy))\n",
        "        return line_points, 'line'\n",
        "\n",
        "    else:\n",
        "        print(f\"Not enough points to fit a {shape_type}.\")\n",
        "        return curve_points, None"
      ],
      "metadata": {
        "id": "AOUp9UQ9r6lo"
      },
      "execution_count": 8,
      "outputs": []
    },
    {
      "cell_type": "code",
      "source": [
        "def ellipse_to_points(ellipse, num_points=100):\n",
        "    \"\"\"\n",
        "    Convert an ellipse representation to a set of points.\n",
        "\n",
        "    Parameters:\n",
        "    ellipse (tuple): The ellipse parameters (center, axes, angle).\n",
        "    num_points (int): Number of points to generate along the ellipse.\n",
        "\n",
        "    Returns:\n",
        "    np.ndarray: An array of points representing the ellipse.\n",
        "    \"\"\"\n",
        "    center, axes, angle = ellipse\n",
        "    a, b = axes[0] / 2.0, axes[1] / 2.0\n",
        "    angle = np.deg2rad(angle)\n",
        "\n",
        "    t = np.linspace(0, 2 * np.pi, num_points)\n",
        "    X = center[0] + a * np.cos(t) * np.cos(angle) - b * np.sin(t) * np.sin(angle)\n",
        "    Y = center[1] + a * np.cos(t) * np.sin(angle) + b * np.sin(t) * np.cos(angle)\n",
        "\n",
        "    points = np.vstack((X, Y)).T\n",
        "    return points\n",
        "\n",
        "def circle_to_points(center, radius, num_points=100):\n",
        "    \"\"\"\n",
        "    Convert a circle representation to a set of points.\n",
        "\n",
        "    Parameters:\n",
        "    center (tuple): The center of the circle.\n",
        "    radius (float): The radius of the circle.\n",
        "    num_points (int): Number of points to generate along the circle.\n",
        "\n",
        "    Returns:\n",
        "    np.ndarray: An array of points representing the circle.\n",
        "    \"\"\"\n",
        "    t = np.linspace(0, 2 * np.pi, num_points)\n",
        "    X = center[0] + radius * np.cos(t)\n",
        "    Y = center[1] + radius * np.sin(t)\n",
        "\n",
        "    points = np.vstack((X, Y)).T\n",
        "    return points\n",
        "\n",
        "def line_to_points(point, direction, length=100):\n",
        "    \"\"\"\n",
        "    Convert a line representation to a set of points.\n",
        "\n",
        "    Parameters:\n",
        "    point (tuple): A point on the line.\n",
        "    direction (tuple): The direction vector of the line.\n",
        "    length (int): Length to extend the line in both directions.\n",
        "\n",
        "    Returns:\n",
        "    np.ndarray: An array of points representing the line.\n",
        "    \"\"\"\n",
        "    t = np.linspace(-length, length, 100)\n",
        "    X = point[0] + t * direction[0]\n",
        "    Y = point[1] + t * direction[1]\n",
        "\n",
        "    points = np.vstack((X, Y)).T\n",
        "    return points"
      ],
      "metadata": {
        "id": "PSs5mAJir-YF"
      },
      "execution_count": 9,
      "outputs": []
    },
    {
      "cell_type": "code",
      "source": [
        "def save_as_svg(original_curve, fitted_curve, output_file):\n",
        "    \"\"\"\n",
        "    Save the original and fitted curves as an SVG file.\n",
        "\n",
        "    Parameters:\n",
        "    original_curve (np.ndarray): The points of the original curve.\n",
        "    fitted_curve (np.ndarray): The points of the fitted curve.\n",
        "    output_file (str): The output file path for the SVG.\n",
        "    \"\"\"\n",
        "    dwg = Drawing(output_file, profile='tiny')\n",
        "\n",
        "    for point in original_curve:\n",
        "        dwg.add(dwg.circle(center=point, r=1, fill='blue'))  # Original curve in blue\n",
        "    for point in fitted_curve:\n",
        "        dwg.add(dwg.circle(center=point, r=1, fill='red'))  # Fitted curve in red\n",
        "\n",
        "    dwg.save()\n",
        "    print(f\"Saved SVG with points to {output_file}\")\n",
        "\n",
        "def save_as_csv(original_curve, fitted_curve, output_file):\n",
        "    \"\"\"\n",
        "    Save the original and fitted curves as a CSV file.\n",
        "\n",
        "    Parameters:\n",
        "    original_curve (np.ndarray): The points of the original curve.\n",
        "    fitted_curve (np.ndarray): The points of the fitted curve.\n",
        "    output_file (str): The output file path for the CSV.\n",
        "    \"\"\"\n",
        "    with open(output_file, 'w', newline='') as f:\n",
        "        writer = csv.writer(f)\n",
        "        writer.writerow(['Original Curve'])\n",
        "        for point in original_curve:\n",
        "            writer.writerow([0.0, 0.0, point[0], point[1]])  # Write original points\n",
        "\n",
        "        writer.writerow(['Fitted Curve'])\n",
        "        for point in fitted_curve:\n",
        "            writer.writerow([0.0, 0.0, point[0], point[1]])  # Write fitted points\n",
        "\n",
        "    print(f\"Saved CSV to {output_file}\")"
      ],
      "metadata": {
        "id": "PgMqNAqusAz4"
      },
      "execution_count": 10,
      "outputs": []
    },
    {
      "cell_type": "code",
      "source": [
        "def main():\n",
        "    \"\"\"\n",
        "    Main function to load the curve, detect and complete occlusions, fit a shape, and save results.\n",
        "    \"\"\"\n",
        "    # Ask the user for the CSV file path\n",
        "    csv_file = input(\"Please enter the path to the CSV file containing the curve data: \")\n",
        "\n",
        "    curve = load_data(csv_file)\n",
        "\n",
        "    intersections, interrupted_segments = detect_intersections(curve)\n",
        "\n",
        "    if intersections:\n",
        "        print(\"Occlusion detected. Completing the curve...\")\n",
        "        completed_curve = curve.copy()\n",
        "\n",
        "        for interrupted_segment in interrupted_segments:\n",
        "            completed_curve = complete_interrupted_curve(completed_curve, interrupted_segment)\n",
        "\n",
        "    else:\n",
        "        completed_curve = curve\n",
        "\n",
        "    shape_type = detect_shape_type(completed_curve)\n",
        "\n",
        "    if shape_type:\n",
        "        print(f\"Detected shape type: {shape_type}\")\n",
        "        shape_points, fitted_shape = fit_shape(completed_curve, shape_type)\n",
        "    else:\n",
        "        print(\"Could not detect a valid shape type. Returning the original curve.\")\n",
        "        shape_points, fitted_shape = completed_curve, None\n",
        "\n",
        "    plt.figure()\n",
        "    plt.scatter(curve[:, 0], curve[:, 1], c='blue', label='Original Points', marker='o')\n",
        "    if fitted_shape is not None:\n",
        "        plt.scatter(shape_points[:, 0], shape_points[:, 1], c='red', label=f'{fitted_shape.capitalize()} Points', marker='o')\n",
        "\n",
        "    plt.legend()\n",
        "    plt.xlabel('X')\n",
        "    plt.ylabel('Y')\n",
        "    plt.title('Curve Analysis')\n",
        "    plt.gca().set_aspect('equal', adjustable='box')\n",
        "    plt.show()\n",
        "\n",
        "    output_svg = input(\"Please enter the name for the SVG output file (e.g., 'output_combined.svg'): \")\n",
        "    output_csv = input(\"Please enter the name for the CSV output file (e.g., 'output_combined.csv'): \")\n",
        "\n",
        "    save_as_svg(curve, shape_points, output_svg)\n",
        "    save_as_csv(curve, shape_points, output_csv)"
      ],
      "metadata": {
        "id": "iG4bWxgrsDcL"
      },
      "execution_count": 11,
      "outputs": []
    },
    {
      "cell_type": "code",
      "source": [
        "if __name__ == \"__main__\":\n",
        "    main()"
      ],
      "metadata": {
        "id": "S6cwpWxfsK5M"
      },
      "execution_count": null,
      "outputs": []
    }
  ]
}